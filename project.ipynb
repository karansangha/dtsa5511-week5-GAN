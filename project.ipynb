{
 "cells": [
  {
   "cell_type": "code",
   "execution_count": 8,
   "id": "d4971bdb-493a-4a02-b4d1-90c71cd1e144",
   "metadata": {},
   "outputs": [],
   "source": [
    "import numpy as np # linear algebra\n",
    "import pandas as pd # data processing, CSV file I/O (e.g. pd.read_csv)\n",
    "import cv2\n",
    "import matplotlib.pyplot as plt\n",
    "import math\n",
    "import os\n",
    "\n",
    "import tensorflow as tf\n",
    "from tensorflow import keras\n",
    "from tensorflow.keras import layers"
   ]
  },
  {
   "cell_type": "code",
   "execution_count": 9,
   "id": "91c559b6-4c10-4ff3-8571-ee9d25e5eefe",
   "metadata": {},
   "outputs": [
    {
     "data": {
      "text/plain": [
       "'2.10.0'"
      ]
     },
     "execution_count": 9,
     "metadata": {},
     "output_type": "execute_result"
    }
   ],
   "source": [
    "tf.__version__"
   ]
  },
  {
   "cell_type": "code",
   "execution_count": 10,
   "id": "f6f8a555-b5e4-4f10-ad70-7a70c3af58bb",
   "metadata": {},
   "outputs": [
    {
     "name": "stdout",
     "output_type": "stream",
     "text": [
      ".\n",
      "./photo_jpg\n",
      "./monet_jpg\n",
      "./photo_tfrec\n",
      "./.ipynb_checkpoints\n",
      "./monet_tfrec\n"
     ]
    }
   ],
   "source": [
    "for dirname, _, filenames in os.walk('.'):\n",
    "    print(dirname)"
   ]
  },
  {
   "cell_type": "code",
   "execution_count": 11,
   "id": "b009c2c0-2a95-4255-a5a6-08b925d75d5d",
   "metadata": {},
   "outputs": [
    {
     "name": "stdout",
     "output_type": "stream",
     "text": [
      "Number of images in Monet directory:  300\n",
      "Number of images in Photo directory:  7038\n"
     ]
    }
   ],
   "source": [
    "MONET_JPG_PATH = './monet_jpg/'\n",
    "PHOTO_JPG_PATH = './photo_jpg/'\n",
    "\n",
    "print('Number of images in Monet directory: ', len(os.listdir(MONET_JPG_PATH)))\n",
    "print('Number of images in Photo directory: ', len(os.listdir(PHOTO_JPG_PATH)))"
   ]
  },
  {
   "cell_type": "markdown",
   "id": "6a2cc5c5-b959-401c-8468-3fcf1ff44842",
   "metadata": {},
   "source": [
    "## Visualize photos from the dataset"
   ]
  },
  {
   "cell_type": "code",
   "execution_count": null,
   "id": "34be7c89-aef9-4239-9bcb-a836e859a480",
   "metadata": {},
   "outputs": [],
   "source": []
  }
 ],
 "metadata": {
  "kernelspec": {
   "display_name": "Python 3 (ipykernel)",
   "language": "python",
   "name": "python3"
  },
  "language_info": {
   "codemirror_mode": {
    "name": "ipython",
    "version": 3
   },
   "file_extension": ".py",
   "mimetype": "text/x-python",
   "name": "python",
   "nbconvert_exporter": "python",
   "pygments_lexer": "ipython3",
   "version": "3.10.6"
  }
 },
 "nbformat": 4,
 "nbformat_minor": 5
}
